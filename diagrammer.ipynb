{
 "cells": [
  {
   "cell_type": "markdown",
   "id": "a763a056-399e-45f2-912d-16607cc50735",
   "metadata": {},
   "source": [
    "## Import Classes from Libraries"
   ]
  },
  {
   "cell_type": "code",
   "execution_count": 1,
   "id": "90f9ba0a-e03b-44bc-b40c-3906165f74e1",
   "metadata": {},
   "outputs": [],
   "source": [
    "from langchain_openai import ChatOpenAI\n",
    "from langchain.prompts import ChatPromptTemplate\n",
    "from langchain.schema.output_parser import StrOutputParser"
   ]
  },
  {
   "cell_type": "markdown",
   "id": "e7ec7abe-0fb6-4ec3-a9c8-b716f74fe5e8",
   "metadata": {},
   "source": [
    "## Read Tangled Prompt and Spec from org-mode export"
   ]
  },
  {
   "cell_type": "code",
   "execution_count": 2,
   "id": "7ea736df-4dd4-4c32-b4b6-d9e9fd15811e",
   "metadata": {},
   "outputs": [],
   "source": [
    "format_instructions = open(\"formatter-prompt.txt\", \"r\")\n",
    "description = open(\"description.txt\", \"r\")"
   ]
  },
  {
   "cell_type": "code",
   "execution_count": 3,
   "id": "22efd733-16eb-417e-8703-87ac8ccbc862",
   "metadata": {},
   "outputs": [],
   "source": [
    "model = ChatOpenAI(model=\"gpt-4-turbo-preview\")\n",
    "spec_prompt =  ChatPromptTemplate.from_messages([\n",
    "  (\"system\", format_instructions.read()),\n",
    "  (\"user\", \"Convert the following data flow description to an interaction list: {description}\")\n",
    "])\n",
    "parser = StrOutputParser()"
   ]
  },
  {
   "cell_type": "markdown",
   "id": "c61d04a0-578a-43c6-827f-7f5d42a2f95d",
   "metadata": {},
   "source": [
    "## Invoke the LLM Chat Model"
   ]
  },
  {
   "cell_type": "code",
   "execution_count": 4,
   "id": "65f9830f-0cdf-4a1d-b290-a995b25a5c88",
   "metadata": {},
   "outputs": [],
   "source": [
    "spec_chain = spec_prompt | model | parser"
   ]
  },
  {
   "cell_type": "code",
   "execution_count": 5,
   "id": "533146fb-9766-42a5-a6e6-54940b96a862",
   "metadata": {},
   "outputs": [],
   "source": [
    "spec =  spec_chain.invoke({\"description\": description.read()})"
   ]
  },
  {
   "cell_type": "code",
   "execution_count": 6,
   "id": "86159aaa-54f5-4a53-953d-65a36d7a6bb5",
   "metadata": {},
   "outputs": [
    {
     "name": "stdout",
     "output_type": "stream",
     "text": [
      "- user sends diagram description (plain text) to orchestrator service\n",
      "- orchestrator service sends prompt (plain text) to formatter LLM\n",
      "- formatter LLM sends bulleted list of interactions to orchestrator service\n",
      "- orchestrator service sends interaction list to diagrammer LLM\n",
      "- diagrammer LLM sends diagram source code to orchestrator service\n",
      "- orchestrator service sends diagram source code to diagramming tool\n",
      "- diagramming tool sends diagram image (PNG) to orchestrator service\n",
      "- orchestrator service sends diagram image (PNG) to user\n"
     ]
    }
   ],
   "source": [
    "print(spec)"
   ]
  },
  {
   "cell_type": "markdown",
   "id": "0226c4c4-00a5-4c95-ac0d-621338b99eed",
   "metadata": {},
   "source": [
    "## Diagram Generation\n"
   ]
  },
  {
   "cell_type": "code",
   "execution_count": 7,
   "id": "df9ed8d0-5453-48e3-ad42-6ba2b9d68754",
   "metadata": {},
   "outputs": [],
   "source": [
    "diagram_instructions = open(\"diagrammer-prompt.txt\", \"r\")\n",
    "diagram_prompt = ChatPromptTemplate.from_messages([\n",
    "  (\"system\", diagram_instructions.read()),\n",
    "  (\"user\", \"Diagram the following data flow: {spec}\")\n",
    "])"
   ]
  },
  {
   "cell_type": "code",
   "execution_count": 8,
   "id": "6aa5084a-a49c-4721-86c3-88933705d31e",
   "metadata": {},
   "outputs": [],
   "source": [
    "diagram_chain = diagram_prompt | model | parser"
   ]
  },
  {
   "cell_type": "code",
   "execution_count": 9,
   "id": "8760ec0d-65c1-4563-8371-75b7f13ee889",
   "metadata": {},
   "outputs": [],
   "source": [
    "diagram_source = diagram_chain.invoke({\"spec\": spec})"
   ]
  },
  {
   "cell_type": "code",
   "execution_count": 10,
   "id": "49a8fdbb-56a8-440a-be50-9231c472fc95",
   "metadata": {},
   "outputs": [
    {
     "name": "stdout",
     "output_type": "stream",
     "text": [
      "```dot\n",
      "digraph G {\n",
      "    graph [bgcolor=white]\n",
      "    node [fontname=\"Roboto Mono\", colorscheme=paired12, style=filled];\n",
      "    \n",
      "    user [shape=oval, color=1];\n",
      "    \"orchestrator service\" [shape=box, color=2];\n",
      "    \"formatter LLM\" [shape=box, color=3];\n",
      "    \"diagrammer LLM\" [shape=box, color=4];\n",
      "    \"diagramming tool\" [shape=box, color=5];\n",
      "\n",
      "    user -> \"orchestrator service\" [label=\"diagram description (plain text)\"];\n",
      "    \"orchestrator service\" -> \"formatter LLM\" [label=\"prompt (plain text)\"];\n",
      "    \"formatter LLM\" -> \"orchestrator service\" [label=\"bulleted list of interactions\"];\n",
      "    \"orchestrator service\" -> \"diagrammer LLM\" [label=\"interaction list\"];\n",
      "    \"diagrammer LLM\" -> \"orchestrator service\" [label=\"diagram source code\"];\n",
      "    \"orchestrator service\" -> \"diagramming tool\" [label=\"diagram source code\"];\n",
      "    \"diagramming tool\" -> \"orchestrator service\" [label=\"diagram image (PNG)\"];\n",
      "    \"orchestrator service\" -> user [label=\"diagram image (PNG)\"];\n",
      "}\n",
      "```\n"
     ]
    }
   ],
   "source": [
    "print(diagram_source)"
   ]
  }
 ],
 "metadata": {
  "kernelspec": {
   "display_name": "Python 3 (ipykernel)",
   "language": "python",
   "name": "python3"
  },
  "language_info": {
   "codemirror_mode": {
    "name": "ipython",
    "version": 3
   },
   "file_extension": ".py",
   "mimetype": "text/x-python",
   "name": "python",
   "nbconvert_exporter": "python",
   "pygments_lexer": "ipython3",
   "version": "3.11.7"
  }
 },
 "nbformat": 4,
 "nbformat_minor": 5
}
