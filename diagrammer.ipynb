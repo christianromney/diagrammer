{
 "cells": [
  {
   "cell_type": "code",
   "execution_count": 4,
   "id": "b7273ebf-5fdd-4dff-bc16-58f217ac0f34",
   "metadata": {},
   "outputs": [],
   "source": [
    "import chromadb\n",
    "chroma = chromadb.Client()\n",
    "collection = chroma.create_collection(name=\"notes\")"
   ]
  },
  {
   "cell_type": "code",
   "execution_count": null,
   "id": "6e822dd7-a048-4444-9e54-bd17de141b44",
   "metadata": {},
   "outputs": [],
   "source": []
  }
 ],
 "metadata": {
  "kernelspec": {
   "display_name": "Python 3 (ipykernel)",
   "language": "python",
   "name": "python3"
  },
  "language_info": {
   "codemirror_mode": {
    "name": "ipython",
    "version": 3
   },
   "file_extension": ".py",
   "mimetype": "text/x-python",
   "name": "python",
   "nbconvert_exporter": "python",
   "pygments_lexer": "ipython3",
   "version": "3.11.7"
  }
 },
 "nbformat": 4,
 "nbformat_minor": 5
}
